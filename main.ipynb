{
 "cells": [
  {
   "cell_type": "code",
   "execution_count": 12,
   "metadata": {},
   "outputs": [],
   "source": [
    "from turtle import Screen, Turtle"
   ]
  },
  {
   "cell_type": "markdown",
   "metadata": {},
   "source": [
    "# screen settings"
   ]
  },
  {
   "cell_type": "code",
   "execution_count": 13,
   "metadata": {},
   "outputs": [],
   "source": [
    "screen = Screen()\n",
    "screen.setup(width=800, height=600)\n",
    "screen.bgcolor(\"black\")\n",
    "screen.title(\"Pong\")"
   ]
  },
  {
   "cell_type": "markdown",
   "metadata": {},
   "source": [
    "# Right paddle turtle"
   ]
  },
  {
   "cell_type": "code",
   "execution_count": 14,
   "metadata": {},
   "outputs": [],
   "source": [
    "right_paddle = Turtle(shape=\"square\")\n",
    "right_paddle.penup()\n",
    "right_paddle.color(\"white\")\n",
    "right_paddle.turtlesize(stretch_wid=5, stretch_len=1)\n",
    "right_paddle.setpos(x=350, y=0)"
   ]
  }
 ],
 "metadata": {
  "kernelspec": {
   "display_name": "Pong_Game",
   "language": "python",
   "name": "python3"
  },
  "language_info": {
   "codemirror_mode": {
    "name": "ipython",
    "version": 3
   },
   "file_extension": ".py",
   "mimetype": "text/x-python",
   "name": "python",
   "nbconvert_exporter": "python",
   "pygments_lexer": "ipython3",
   "version": "3.10.4"
  }
 },
 "nbformat": 4,
 "nbformat_minor": 2
}
